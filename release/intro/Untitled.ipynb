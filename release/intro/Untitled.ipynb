{
 "cells": [
  {
   "cell_type": "code",
   "execution_count": null,
   "metadata": {},
   "outputs": [],
   "source": [
    "import math\n",
    "from sympy import *\n",
    "from sympy.plotting import plot3d\n",
    "init_printing()\n",
    "\n",
    "a, b, c, d, e = symbols('a,b,c,d,e')\n",
    "x, y, z = symbols('x,y,z')\n",
    "p, q = symbols('p, q')\n",
    "k, m = symbols('k,m')\n",
    "alpha, beta, gamma = symbols('alpha, beta, gamma')\n",
    "mu, sigma = symbols('mu, sigma')"
   ]
  },
  {
   "cell_type": "code",
   "execution_count": null,
   "metadata": {},
   "outputs": [],
   "source": [
    "linear = a*x+b\n",
    "d1 = solveset(linear, x)\n",
    "d1"
   ]
  },
  {
   "cell_type": "code",
   "execution_count": null,
   "metadata": {},
   "outputs": [],
   "source": [
    "quadratic = a*x**2+b*x+c\n",
    "d2 = solveset(quadratic, x)\n",
    "d2"
   ]
  },
  {
   "cell_type": "code",
   "execution_count": null,
   "metadata": {},
   "outputs": [],
   "source": [
    "qubic = a*x**3+b*x**2+c*x+d\n",
    "d3 = solveset(qubic, x)\n",
    "d3"
   ]
  },
  {
   "cell_type": "code",
   "execution_count": null,
   "metadata": {},
   "outputs": [],
   "source": [
    "quartic = a*x**4+b*x**3+c*x**2+d*x+e\n",
    "d4 = solveset(quartic, x)\n",
    "d4"
   ]
  },
  {
   "cell_type": "code",
   "execution_count": null,
   "metadata": {},
   "outputs": [],
   "source": []
  }
 ],
 "metadata": {
  "kernelspec": {
   "display_name": "Python 3",
   "language": "python",
   "name": "python3"
  },
  "language_info": {
   "codemirror_mode": {
    "name": "ipython",
    "version": 3
   },
   "file_extension": ".py",
   "mimetype": "text/x-python",
   "name": "python",
   "nbconvert_exporter": "python",
   "pygments_lexer": "ipython3",
   "version": "3.6.2"
  }
 },
 "nbformat": 4,
 "nbformat_minor": 2
}
