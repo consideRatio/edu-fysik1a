{
 "cells": [
  {
   "cell_type": "markdown",
   "metadata": {},
   "source": [
    "# Fysik 1a\n",
    "## Övningslaboration\n",
    "\n",
    "Välkomna till den första digitala labben i Fysik 1a! Det ni nu läser kallas för en *Jupyter notebook* eller *kodbok*. I dem förses ni med endel programmeringskod, men ibland saknas det endel kod som ni behöver fylla i, detta ska ni göra om ni ser rubriker såsom **'Kodkomplettering 1'**. Utöver att komplettera kod, kommer ni behöva svara på frågor under rubriker såsom **'Fråga 1'**. Ni svarar på frågorna rubriker såsom **'Svar 1'**.\n",
    "\n",
    "I kodböckerna finns det *celler*, denna text står i en *textcell*, men det finns även *kodceller*. Markerar du en kodcell och trycker **Shift + Enter** på tangentbordet så kommer koden köras! Testa detta på kodcellen nedan."
   ]
  },
  {
   "cell_type": "code",
   "execution_count": null,
   "metadata": {},
   "outputs": [],
   "source": [
    "print('Hello World')"
   ]
  },
  {
   "cell_type": "markdown",
   "metadata": {},
   "source": [
    "# Exempelkod"
   ]
  },
  {
   "cell_type": "code",
   "execution_count": null,
   "metadata": {},
   "outputs": [],
   "source": [
    "import random\n",
    "import math\n",
    "\n",
    "# Detta är en 'kommentar'.\n",
    "\n",
    "# Denna kod 'definierar' en 'funktion'. Funktioner hjälper oss att återanvända kod.\n",
    "# Funktionen nedan har två 'parametrar'.\n",
    "def add_two_numbers(a, b):\n",
    "    # För att visa vilken kod som tillhör funktionen så 'indenterar' man den en tabb.\n",
    "    \n",
    "    # Spara summan av a och b i en 'variabel'\n",
    "    sum = a + b\n",
    "    \n",
    "    # 'Returnera' (skicka tillbaka) ett resultat från funktionen.\n",
    "    return sum\n",
    "\n",
    "# Nu skriver jag ut resultatet av funktionen när den anropas med 'argumenten' 3 och 5.\n",
    "print(add_two_numbers(3, 5))"
   ]
  },
  {
   "cell_type": "markdown",
   "metadata": {},
   "source": [
    "# Kodkomplettering 1\n",
    "\n",
    "Ditt uppdrag nedan är att definiera en ny funktion som heter *do_simple_math* som har tre parametrar som du kallar a, b och c. Den ska returnera summan av a och b dividerat med c."
   ]
  },
  {
   "cell_type": "code",
   "execution_count": null,
   "metadata": {},
   "outputs": [],
   "source": [
    "# TODO: Definiera funktionen nedan...\n",
    "\n",
    "\n",
    "\n",
    "# Kontrollkod...\n",
    "assert math.fabs(do_simple_math(3,7,2) - 5) <= 1e-10, \"Funktionen returnera {} istället för 5\".format(do_simple_math(3,7,2))\n",
    "assert math.fabs(do_simple_math(2.3,3.5,29) - 0.2) <= 1e-10, \"Funktionen returnera {} istället för 0.2\".format(do_simple_math(2.3,3.5,29))\n",
    "\n",
    "print(\"Grattis - du verkar ha klarat det!\")"
   ]
  },
  {
   "cell_type": "markdown",
   "metadata": {},
   "source": [
    "# Fråga 1\n",
    "\n",
    "Skriver du ett frågetecken efter en funktion, kan du få information om den. Undersök vad funktionen *floor* gör.\n",
    "\n",
    "Frågan har flera delar.\n",
    "- vad menas med en *float*?\n",
    "- vad menas med en *integer*?\n",
    "- vad innebär *a <= b*?"
   ]
  },
  {
   "cell_type": "code",
   "execution_count": null,
   "metadata": {
    "collapsed": true
   },
   "outputs": [],
   "source": [
    "import math\n",
    "\n",
    "math.floor?"
   ]
  },
  {
   "cell_type": "markdown",
   "metadata": {},
   "source": [
    "# Svar 1:\n",
    "\n",
    "Skriv ditt svar här..."
   ]
  },
  {
   "cell_type": "markdown",
   "metadata": {},
   "source": [
    " > **Obs:**: För att få en kopia att skicka in till läraren så klickar du i menyraden på *File* -> *Download as* -> *HTML (.html)*."
   ]
  }
 ],
 "metadata": {
  "kernelspec": {
   "display_name": "Python 3",
   "language": "python",
   "name": "python3"
  },
  "language_info": {
   "codemirror_mode": {
    "name": "ipython",
    "version": 3
   },
   "file_extension": ".py",
   "mimetype": "text/x-python",
   "name": "python",
   "nbconvert_exporter": "python",
   "pygments_lexer": "ipython3",
   "version": "3.6.1"
  }
 },
 "nbformat": 4,
 "nbformat_minor": 2
}
